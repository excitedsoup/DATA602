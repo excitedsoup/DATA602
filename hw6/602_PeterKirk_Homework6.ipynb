{
 "cells": [
  {
   "cell_type": "code",
   "execution_count": 40,
   "id": "c066e4e3",
   "metadata": {},
   "outputs": [
    {
     "data": {
      "text/html": [
       "<div>\n",
       "<style scoped>\n",
       "    .dataframe tbody tr th:only-of-type {\n",
       "        vertical-align: middle;\n",
       "    }\n",
       "\n",
       "    .dataframe tbody tr th {\n",
       "        vertical-align: top;\n",
       "    }\n",
       "\n",
       "    .dataframe thead th {\n",
       "        text-align: right;\n",
       "    }\n",
       "</style>\n",
       "<table border=\"1\" class=\"dataframe\">\n",
       "  <thead>\n",
       "    <tr style=\"text-align: right;\">\n",
       "      <th></th>\n",
       "      <th>PhraseId</th>\n",
       "      <th>SentenceId</th>\n",
       "      <th>Phrase</th>\n",
       "      <th>Sentiment</th>\n",
       "    </tr>\n",
       "  </thead>\n",
       "  <tbody>\n",
       "    <tr>\n",
       "      <th>0</th>\n",
       "      <td>1</td>\n",
       "      <td>1</td>\n",
       "      <td>A series of escapades demonstrating the adage ...</td>\n",
       "      <td>1</td>\n",
       "    </tr>\n",
       "    <tr>\n",
       "      <th>1</th>\n",
       "      <td>2</td>\n",
       "      <td>1</td>\n",
       "      <td>A series of escapades demonstrating the adage ...</td>\n",
       "      <td>2</td>\n",
       "    </tr>\n",
       "    <tr>\n",
       "      <th>2</th>\n",
       "      <td>3</td>\n",
       "      <td>1</td>\n",
       "      <td>A series</td>\n",
       "      <td>2</td>\n",
       "    </tr>\n",
       "    <tr>\n",
       "      <th>3</th>\n",
       "      <td>4</td>\n",
       "      <td>1</td>\n",
       "      <td>A</td>\n",
       "      <td>2</td>\n",
       "    </tr>\n",
       "    <tr>\n",
       "      <th>4</th>\n",
       "      <td>5</td>\n",
       "      <td>1</td>\n",
       "      <td>series</td>\n",
       "      <td>2</td>\n",
       "    </tr>\n",
       "  </tbody>\n",
       "</table>\n",
       "</div>"
      ],
      "text/plain": [
       "   PhraseId  SentenceId                                             Phrase  \\\n",
       "0         1           1  A series of escapades demonstrating the adage ...   \n",
       "1         2           1  A series of escapades demonstrating the adage ...   \n",
       "2         3           1                                           A series   \n",
       "3         4           1                                                  A   \n",
       "4         5           1                                             series   \n",
       "\n",
       "   Sentiment  \n",
       "0          1  \n",
       "1          2  \n",
       "2          2  \n",
       "3          2  \n",
       "4          2  "
      ]
     },
     "execution_count": 40,
     "metadata": {},
     "output_type": "execute_result"
    }
   ],
   "source": [
    "#Use the train.tsv file at\n",
    "#https://www.kaggle.com/c/sentiment-analysis-on-movie-reviews/data\n",
    "#-Load the data, show the first five rows, check the data, and provide information on the\n",
    "#data.\n",
    "\n",
    "import pandas as pd\n",
    "\n",
    "df = pd.read_csv('train.tsv', sep = '\\t')\n",
    "df.head(5)"
   ]
  },
  {
   "cell_type": "markdown",
   "id": "6bfb8111",
   "metadata": {},
   "source": [
    "PhraseID is an index\n",
    "\n",
    "The data is broken down into fragments of sentences, sorted by SentenceID\n",
    "\n",
    "Phrase is the sentence fragment\n",
    "\n",
    "Sentiment is what the sentence is trying to convey, sorted into numbered categories:\n",
    "\n",
    "0 - negative\n",
    "\n",
    "1 - somewhat negative\n",
    "\n",
    "2 - neutral\n",
    "\n",
    "3 - somewhat positive\n",
    "\n",
    "4 - positive"
   ]
  },
  {
   "cell_type": "code",
   "execution_count": 67,
   "id": "b0be87f2",
   "metadata": {},
   "outputs": [
    {
     "data": {
      "text/html": [
       "<div>\n",
       "<style scoped>\n",
       "    .dataframe tbody tr th:only-of-type {\n",
       "        vertical-align: middle;\n",
       "    }\n",
       "\n",
       "    .dataframe tbody tr th {\n",
       "        vertical-align: top;\n",
       "    }\n",
       "\n",
       "    .dataframe thead th {\n",
       "        text-align: right;\n",
       "    }\n",
       "</style>\n",
       "<table border=\"1\" class=\"dataframe\">\n",
       "  <thead>\n",
       "    <tr style=\"text-align: right;\">\n",
       "      <th></th>\n",
       "      <th>PhraseId</th>\n",
       "    </tr>\n",
       "    <tr>\n",
       "      <th>Sentiment</th>\n",
       "      <th></th>\n",
       "    </tr>\n",
       "  </thead>\n",
       "  <tbody>\n",
       "    <tr>\n",
       "      <th>0</th>\n",
       "      <td>7072</td>\n",
       "    </tr>\n",
       "    <tr>\n",
       "      <th>1</th>\n",
       "      <td>27273</td>\n",
       "    </tr>\n",
       "    <tr>\n",
       "      <th>2</th>\n",
       "      <td>79582</td>\n",
       "    </tr>\n",
       "    <tr>\n",
       "      <th>3</th>\n",
       "      <td>32927</td>\n",
       "    </tr>\n",
       "    <tr>\n",
       "      <th>4</th>\n",
       "      <td>9206</td>\n",
       "    </tr>\n",
       "  </tbody>\n",
       "</table>\n",
       "</div>"
      ],
      "text/plain": [
       "           PhraseId\n",
       "Sentiment          \n",
       "0              7072\n",
       "1             27273\n",
       "2             79582\n",
       "3             32927\n",
       "4              9206"
      ]
     },
     "execution_count": 67,
     "metadata": {},
     "output_type": "execute_result"
    }
   ],
   "source": [
    "#-Show the distribution of review documents.\n",
    "\n",
    "pd.DataFrame(df.groupby(['Sentiment']).count()['PhraseId'])"
   ]
  },
  {
   "cell_type": "code",
   "execution_count": 51,
   "id": "0144f26f",
   "metadata": {},
   "outputs": [
    {
     "name": "stdout",
     "output_type": "stream",
     "text": [
      "(156060,)\n",
      "(156060, 15240)\n"
     ]
    }
   ],
   "source": [
    "#-Generate the document term matrix by using scikitlearn’s CountVectorizer. From\n",
    "#nltk.tokenizer import RegexpTokenizer. ‘Sentiment’ is the data. Train, test and split.\n",
    "\n",
    "import numpy as np\n",
    "from sklearn.feature_extraction.text import CountVectorizer\n",
    "from nltk.tokenize import RegexpTokenizer #not sure what this was supposed to be used for? Was concerned that it was\n",
    "#returning some stuff like 000, but I'm not actually sure if this solves it or if that's even an issue\n",
    "\n",
    "vect = CountVectorizer()\n",
    "vects = vect.fit_transform(df['Phrase'].values)\n",
    "\n",
    "td = pd.DataFrame(vects.todense())\n",
    "td.columns = vect.get_feature_names_out()\n",
    "term_document_matrix = td.T\n",
    "term_document_matrix.columns = ['Phrase' + str(i) for i in range(1, 156061)]\n",
    "\n",
    "x = np.swapaxes(term_document_matrix, 0, 1)\n",
    "y = df['Sentiment'].values\n",
    "\n",
    "from sklearn.model_selection import train_test_split\n",
    "\n",
    "x_train, x_test, y_train, y_test = train_test_split(x, y, test_size = .3, random_state = 1234)"
   ]
  },
  {
   "cell_type": "code",
   "execution_count": 52,
   "id": "978dc23b",
   "metadata": {},
   "outputs": [
    {
     "data": {
      "text/plain": [
       "MultinomialNB()"
      ]
     },
     "execution_count": 52,
     "metadata": {},
     "output_type": "execute_result"
    }
   ],
   "source": [
    "#-Import the MultinomialNB module and create a MNB classifier object using the\n",
    "#MultinomialNB() function.\n",
    "\n",
    "from sklearn.naive_bayes import MultinomialNB\n",
    "\n",
    "clf = MultinomialNB()\n",
    "clf.fit(x_train, y_train)"
   ]
  },
  {
   "cell_type": "code",
   "execution_count": 56,
   "id": "02ad8d6e",
   "metadata": {},
   "outputs": [
    {
     "name": "stdout",
     "output_type": "stream",
     "text": [
      "0.6068819684736639\n"
     ]
    }
   ],
   "source": [
    "#Import scikit.learn metrics to compute the accuracy and fit\n",
    "#the model before computing the accuracy. What is the outcome?\n",
    "\n",
    "from sklearn import metrics\n",
    "\n",
    "y_pred = clf.predict(x_test)\n",
    "\n",
    "print(metrics.accuracy_score(y_test, y_pred))"
   ]
  },
  {
   "cell_type": "code",
   "execution_count": 57,
   "id": "aed36b7e",
   "metadata": {},
   "outputs": [],
   "source": [
    "#-Use TfidfVectorizer-transformed data and split it into training and test datasets.\n",
    "\n",
    "from sklearn.feature_extraction.text import TfidfVectorizer\n",
    "\n",
    "vect = TfidfVectorizer()\n",
    "vects = vect.fit_transform(df['Phrase'].values)\n",
    "\n",
    "td = pd.DataFrame(vects.todense())\n",
    "td.columns = vect.get_feature_names_out()\n",
    "term_document_matrix = td.T\n",
    "term_document_matrix.columns = ['Phrase' + str(i) for i in range(1, 156061)]\n",
    "\n",
    "x = np.swapaxes(term_document_matrix, 0, 1)\n",
    "\n",
    "x_train, x_test, y_train, y_test = train_test_split(x, y, test_size = .3, random_state = 1234)"
   ]
  },
  {
   "cell_type": "code",
   "execution_count": 58,
   "id": "8ec927fe",
   "metadata": {},
   "outputs": [
    {
     "name": "stdout",
     "output_type": "stream",
     "text": [
      "0.5854158656926823\n"
     ]
    }
   ],
   "source": [
    "#-Build the text classification model using TF-IDF. First, import the MultinomialNB\n",
    "#module and create the MNB classifier object using the MultinomialNB function. Fit the\n",
    "#model on the training set and perform the prediction. Is the accuracy better?\n",
    "\n",
    "clf = MultinomialNB()\n",
    "clf.fit(x_train, y_train)\n",
    "\n",
    "y_pred = clf.predict(x_test)\n",
    "\n",
    "print(metrics.accuracy_score(y_test, y_pred))"
   ]
  },
  {
   "cell_type": "markdown",
   "id": "c56c10b6",
   "metadata": {},
   "source": [
    "No, it seems to be slightly worse."
   ]
  }
 ],
 "metadata": {
  "kernelspec": {
   "display_name": "Python 3 (ipykernel)",
   "language": "python",
   "name": "python3"
  },
  "language_info": {
   "codemirror_mode": {
    "name": "ipython",
    "version": 3
   },
   "file_extension": ".py",
   "mimetype": "text/x-python",
   "name": "python",
   "nbconvert_exporter": "python",
   "pygments_lexer": "ipython3",
   "version": "3.8.11"
  }
 },
 "nbformat": 4,
 "nbformat_minor": 5
}
