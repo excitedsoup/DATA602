{
 "cells": [
  {
   "cell_type": "markdown",
   "id": "8ce54f12",
   "metadata": {},
   "source": [
    "-Load the dataset. What are the features?\n",
    "\n",
    "-Create a DataFrame of given wine dataset. Standardize the features.\n",
    "\n",
    "-Split the dataset into training and test sets (30%).\n",
    "\n",
    "-Use the linalg.eig function from NumPy to obtain the eigenpairs of the Wine covariance matrix. Print the eigenvalues.\n",
    "\n",
    "-Compute and plot the individual explained variance and the cumulative explained variance (range from 1 to 14). Using the NumPy cumsum function, calculate the cumulative sum of explained variances, which you will then plot via Matplotlib's step function. Explain the outcomes.\n",
    "\n",
    "-Sort the eigenpairs by decreasing order of the eigenvalues. Make a list of (eigenvalue, eigenvector) tuples. Sort the (eigenvalue, eigenvector) tuples from high to low. Print the projection matrix W.\n",
    "\n",
    "-Using the projection matrix, transform a sample x onto the PCA subspace (the principal components 1 and 2). Transform the entire 124 x 13-dimensional training dataset onto the two principal components by calculating the matrix dot product.\n",
    "\n",
    "-Visualize the transformed Wine training set into a two-dimensional scatterplot.\n",
    "\n",
    "-Method number 2. Import ListedColormap. Set up marker generator and color map. -----Plot the decision surface and plot the class samples.\n",
    "\n",
    "-Import LogisticRegression and PCA. Visualize the decision regions (hint: X_train_pca, y_train, classifier=lr).\n"
   ]
  },
  {
   "cell_type": "code",
   "execution_count": 148,
   "id": "0040d94c",
   "metadata": {},
   "outputs": [],
   "source": [
    "#-Load the dataset. What are the features?\n",
    "#-Create a DataFrame of given wine dataset. Standardize the features.\n",
    "#-Split the dataset into training and test sets (30%).\n",
    "import pandas as pd\n",
    "import numpy as np\n",
    "from sklearn import preprocessing\n",
    "from sklearn.model_selection import train_test_split\n",
    "\n",
    "\n",
    "colNames = ['Class', 'Alcohol', 'Malic Acid', 'Ash', 'Alcalinity of Ash', 'Magnesium',\n",
    "            'Total Phenols', 'Falvanoids', 'Nonflavanoid Phenols', 'Proanthocyanins',\n",
    "            'Color Intensity', 'Hue', 'OD280/OD315 of Diluted Wines', 'Proline']\n",
    "\n",
    "data = pd.read_csv('wine.data', names = colNames, sep = ',')\n",
    "\n",
    "x = data.iloc[:, 1:].values\n",
    "y = data.iloc[:, 0].values\n",
    "x_train, x_test, y_train, y_test = train_test_split(x, y, test_size = .3, random_state = 42)\n",
    "\n",
    "sc = preprocessing.StandardScaler()\n",
    "\n",
    "x_train_s = sc.fit_transform(x_train)\n",
    "\n",
    "x_test_s = sc.transform(x_test)"
   ]
  },
  {
   "cell_type": "markdown",
   "id": "1774f51a",
   "metadata": {},
   "source": [
    "From the wine.names file, the features (starting at the second column, the first column seems to denote some class specified in the names file):\n",
    "1) Alcohol\n",
    "\n",
    "2) Malic acid\n",
    "\n",
    "3) Ash\n",
    "\n",
    "4) Alcalinity of ash  \n",
    "\n",
    "5) Magnesium\n",
    "\n",
    "6) Total phenols\n",
    "\n",
    "7) Flavanoids\n",
    "\n",
    "8) Nonflavanoid phenols\n",
    "\n",
    "9) Proanthocyanins\n",
    "\n",
    "10) Color intensity\n",
    "\n",
    "11) Hue\n",
    "\n",
    "12) OD280/OD315 of diluted wines\n",
    "\n",
    "13) Proline    "
   ]
  },
  {
   "cell_type": "code",
   "execution_count": 129,
   "id": "d7a57b83",
   "metadata": {},
   "outputs": [
    {
     "data": {
      "text/plain": [
       "array([4.74376552, 2.45913372, 1.5276711 , 0.99327678, 0.92313257,\n",
       "       0.59663887, 0.46974164, 0.09935613, 0.17349645, 0.34681782,\n",
       "       0.23096439, 0.25665489, 0.28504118])"
      ]
     },
     "execution_count": 129,
     "metadata": {},
     "output_type": "execute_result"
    }
   ],
   "source": [
    "#-Use the linalg.eig function from NumPy to obtain the eigenpairs of the Wine covariance matrix. Print the eigenvalues.\n",
    "from numpy import linalg as LA\n",
    "\n",
    "covariance = np.cov(x_train_s.T)\n",
    "val, vec = LA.eig(covariance)\n",
    "\n",
    "val"
   ]
  },
  {
   "cell_type": "code",
   "execution_count": 132,
   "id": "5f754670",
   "metadata": {},
   "outputs": [
    {
     "data": {
      "text/plain": [
       "[<matplotlib.lines.Line2D at 0x1b05a5f3520>]"
      ]
     },
     "execution_count": 132,
     "metadata": {},
     "output_type": "execute_result"
    },
    {
     "data": {
      "image/png": "[encoded data removed]",
      "text/plain": [
       "<Figure size 432x288 with 1 Axes>"
      ]
     },
     "metadata": {
      "needs_background": "light"
     },
     "output_type": "display_data"
    }
   ],
   "source": [
    "#-Compute and plot the individual explained variance and the cumulative explained variance (range from 1 to 14).\n",
    "#Using the NumPy cumsum function, calculate the cumulative sum of explained variances,\n",
    "#which you will then plot via Matplotlib's step function. Explain the outcomes.\n",
    "import matplotlib.pyplot as plt\n",
    "\n",
    "total = sum(val)\n",
    "\n",
    "explained_variance = [(i / total) for i in sorted(val, reverse=True)]\n",
    "e_v_cum = np.cumsum(explained_variance)\n",
    "\n",
    "plt.bar(range(0, len(explained_variance)),explained_variance)\n",
    "plt.step(range(0, len(e_v_cum)), e_v_cum, where='mid')"
   ]
  },
  {
   "cell_type": "markdown",
   "id": "b243a78d",
   "metadata": {},
   "source": [
    "Each bar represents the proportion of variance explained by its respective factor, the step function shows the total level of variance explained by all factors up to each individual step (in this one, it looks like the first is about .37, and the first two combined are ~.55)"
   ]
  },
  {
   "cell_type": "code",
   "execution_count": 143,
   "id": "51e2d1db",
   "metadata": {
    "scrolled": true
   },
   "outputs": [
    {
     "name": "stdout",
     "output_type": "stream",
     "text": [
      "[[-0.13443023 -0.49571937]\n",
      " [ 0.25680248 -0.21988534]\n",
      " [ 0.0113463  -0.25579499]\n",
      " [ 0.23405337  0.09630359]\n",
      " [-0.15840049 -0.26616487]\n",
      " [-0.39194918 -0.06381624]\n",
      " [-0.41607649 -0.00971648]\n",
      " [ 0.27871336 -0.0275335 ]\n",
      " [-0.33129255 -0.0073265 ]\n",
      " [ 0.11383282 -0.54829944]\n",
      " [-0.29726413  0.27616688]\n",
      " [-0.38054255  0.15580423]\n",
      " [-0.27507157 -0.39269514]]\n"
     ]
    }
   ],
   "source": [
    "#-Sort the eigenpairs by decreasing order of the eigenvalues. Make a list of (eigenvalue, eigenvector) tuples.\n",
    "#Sort the (eigenvalue, eigenvector) tuples from high to low. Print the projection matrix W.\n",
    "\n",
    "    \n",
    "eigenpairs = [(np.abs(val[i]), vec[:, i])\n",
    "     for i in range(len(val))]\n",
    "eigenpairs.sort(reverse=True)\n",
    "\n",
    "W = np.hstack((eigenpairs[0][1][:, np.newaxis], eigenpairs[1][1][:, np.newaxis]))\n",
    "print(W)"
   ]
  },
  {
   "cell_type": "code",
   "execution_count": 150,
   "id": "a6b15b0f",
   "metadata": {},
   "outputs": [
    {
     "name": "stdout",
     "output_type": "stream",
     "text": [
      "[ 3.00694856 -0.44098187]\n"
     ]
    },
    {
     "data": {
      "text/plain": [
       "array([[ 0.62844732,  1.08120605, -0.65212742, ..., -0.64137827,\n",
       "        -1.07090115, -0.51821917],\n",
       "       [-0.54088231, -0.61299439, -1.42753372, ...,  0.34652993,\n",
       "         1.33076844, -0.21506322],\n",
       "       [-0.75565714, -1.28703113, -1.53830605, ...,  0.43243499,\n",
       "        -0.39843366,  0.04196031],\n",
       "       ...,\n",
       "       [ 1.69038953, -0.48547393,  0.04943066, ...,  1.03377042,\n",
       "         0.54851034,  2.66821356],\n",
       "       [-0.32610748, -0.79516648, -0.39365865, ...,  0.00290969,\n",
       "        -0.74152932, -0.79830892],\n",
       "       [-0.74372521,  0.04282513,  0.34482354, ..., -0.6843308 ,\n",
       "         1.07001574, -0.98613381]])"
      ]
     },
     "execution_count": 150,
     "metadata": {},
     "output_type": "execute_result"
    }
   ],
   "source": [
    "#-Using the projection matrix, transform a sample x onto the PCA subspace (the principal components 1 and 2).\n",
    "# Transform the entire 124 x 13-dimensional training dataset\n",
    "# onto the two principal components by calculating the matrix dot product.\n",
    "\n",
    "print(x_train_s[0].dot(W))\n",
    "\n",
    "x_train_pca = x_train_s.dot(W)\n",
    "x_train_s"
   ]
  },
  {
   "cell_type": "code",
   "execution_count": 156,
   "id": "9b7cfe66",
   "metadata": {},
   "outputs": [
    {
     "data": {
      "image/png": "[encoded data removed]",
      "text/plain": [
       "<Figure size 432x288 with 1 Axes>"
      ]
     },
     "metadata": {
      "needs_background": "light"
     },
     "output_type": "display_data"
    }
   ],
   "source": [
    "#-Visualize the transformed Wine training set into a two-dimensional scatterplot.\n",
    "\n",
    "for l, c, m in zip(np.unique(y_train), ['r', 'g', 'b'], ['s', 'x', 'o']):\n",
    "    plt.scatter(x_train_pca[y_train == l, 0], x_train_pca[y_train == l, 1], c = c, label = l, marker = m)\n",
    "\n",
    "    \n",
    "plt.xlabel('PC 1')\n",
    "plt.ylabel('PC 2')\n",
    "plt.legend()\n",
    "plt.show()"
   ]
  },
  {
   "cell_type": "code",
   "execution_count": 163,
   "id": "3e2a3c83",
   "metadata": {},
   "outputs": [
    {
     "name": "stderr",
     "output_type": "stream",
     "text": [
      "C:\\Users\\Peter\\AppData\\Local\\Temp/ipykernel_24332/1415915513.py:26: UserWarning: You passed a edgecolor/edgecolors ('black') for an unfilled marker ('x').  Matplotlib is ignoring the edgecolor in favor of the facecolor.  This behavior may change in the future.\n",
      "  plt.scatter(x=X[y == cl, 0],\n"
     ]
    },
    {
     "data": {
      "image/png": "[encoded data removed]",
      "text/plain": [
       "<Figure size 432x288 with 1 Axes>"
      ]
     },
     "metadata": {
      "needs_background": "light"
     },
     "output_type": "display_data"
    }
   ],
   "source": [
    "#-Method number 2. Import ListedColormap. Set up marker generator and color map. \n",
    "#-----Plot the decision surface and plot the class samples.\n",
    "#-Import LogisticRegression and PCA. Visualize the decision regions (hint: X_train_pca, y_train, classifier=lr).\n",
    "\n",
    "from matplotlib.colors import ListedColormap\n",
    "from sklearn.linear_model import LogisticRegression\n",
    "from sklearn.decomposition import PCA\n",
    "\n",
    "def plot_decision_regions(X, y, classifier, resolution=0.02):\n",
    "    # setup marker generator and color map\n",
    "    markers = ('s', 'x', 'o', '^', 'v')\n",
    "    colors = ('red', 'blue', 'lightgreen', 'gray', 'cyan')\n",
    "    cmap = ListedColormap(colors[:len(np.unique(y))])\n",
    "    # plot the decision surface\n",
    "    x1_min, x1_max = X[:, 0].min() - 1, X[:, 0].max() + 1\n",
    "    x2_min, x2_max = X[:, 1].min() - 1, X[:, 1].max() + 1\n",
    "    xx1, xx2 = np.meshgrid(np.arange(x1_min, x1_max, resolution),\n",
    "                           np.arange(x2_min, x2_max, resolution))\n",
    "    Z = classifier.predict(np.array([xx1.ravel(), xx2.ravel()]).T)\n",
    "    Z = Z.reshape(xx1.shape)\n",
    "    plt.contourf(xx1, xx2, Z, alpha=0.4, cmap=cmap)\n",
    "    plt.xlim(xx1.min(), xx1.max())\n",
    "    plt.ylim(xx2.min(), xx2.max())\n",
    "    # plot examples by class\n",
    "    for idx, cl in enumerate(np.unique(y)):\n",
    "        plt.scatter(x=X[y == cl, 0],\n",
    "            y=X[y == cl, 1],\n",
    "            alpha=0.6,\n",
    "            color=cmap(idx),\n",
    "            edgecolor='black',\n",
    "            marker=markers[idx],\n",
    "            label=cl)\n",
    "        \n",
    "pca = PCA(n_components = 2)\n",
    "logReg = LogisticRegression(multi_class = 'ovr', random_state = 42, solver = 'lbfgs')\n",
    "\n",
    "x_train_pca = pca.fit_transform(x_train_s)\n",
    "x_test_pca = pca.transform(x_test_s)\n",
    "\n",
    "logReg.fit(x_train_pca, y_train)\n",
    "plot_decision_regions(x_train_pca, y_train, classifier = logReg)\n",
    "plt.xlabel('PC 1')\n",
    "plt.ylabel('PC 2')\n",
    "plt.legend()\n",
    "plt.show()"
   ]
  }
 ],
 "metadata": {
  "kernelspec": {
   "display_name": "Python 3 (ipykernel)",
   "language": "python",
   "name": "python3"
  },
  "language_info": {
   "codemirror_mode": {
    "name": "ipython",
    "version": 3
   },
   "file_extension": ".py",
   "mimetype": "text/x-python",
   "name": "python",
   "nbconvert_exporter": "python",
   "pygments_lexer": "ipython3",
   "version": "3.8.11"
  }
 },
 "nbformat": 4,
 "nbformat_minor": 5
}
